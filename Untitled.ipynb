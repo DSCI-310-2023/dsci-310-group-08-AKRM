{
 "cells": [
  {
   "cell_type": "code",
   "execution_count": null,
   "id": "fb39bce4-2827-449c-8ee1-f57c37ff9837",
   "metadata": {},
   "outputs": [],
   "source": []
  }
 ],
 "metadata": {
  "kernelspec": {
   "display_name": "R",
   "language": "R",
   "name": "ir"
  },
  "language_info": {
   "codemirror_mode": "r",
   "file_extension": ".r",
   "mimetype": "text/x-r-source",
   "name": "R",
   "pygments_lexer": "r",
   "version": "4.2.2"
  }
 },
 "nbformat": 4,
 "nbformat_minor": 5
}
